{
 "cells": [
  {
   "cell_type": "code",
   "execution_count": 1,
   "metadata": {},
   "outputs": [],
   "source": [
    "import os\n",
    "import numpy as np\n",
    "import pandas as pd\n",
    "import matplotlib as plt\n",
    "import matplotlib.pyplot as plt"
   ]
  },
  {
   "cell_type": "code",
   "execution_count": 2,
   "metadata": {},
   "outputs": [],
   "source": [
    "os.chdir('C:/Users/jwolf/Documents/MEGA/03_Doutoramento/08_Apresentações_publicações/E-Planning')"
   ]
  },
  {
   "cell_type": "code",
   "execution_count": 3,
   "metadata": {},
   "outputs": [],
   "source": [
    "df_capacitated = pd.read_excel(\"Custos_por_algoritmos.xlsx\", sheet_name=\"Capacitated_facility\", header=0,\\\n",
    "             dtype= {'SubSection': str, 'School': str})\n",
    "\n",
    "df_k_median = pd.read_excel(\"Custos_por_algoritmos.xlsx\", sheet_name=\"K_median\", header=0,\\\n",
    "dtype= {'SubSection': str, 'School': str})\n",
    "\n",
    "df_escolas_reais = pd.read_excel(\"Custos_por_algoritmos.xlsx\", sheet_name=\"Escolas_reais\", header=0,\\\n",
    "dtype= {'SubSection': str, 'School': str})\n",
    "\n",
    "df_capacitated = df_capacitated[:-1]\n",
    "df_k_median = df_k_median[:-1]\n",
    "df_escolas_reais = df_escolas_reais[:-1]"
   ]
  },
  {
   "cell_type": "code",
   "execution_count": 4,
   "metadata": {},
   "outputs": [
    {
     "data": {
      "text/html": [
       "<div>\n",
       "<style scoped>\n",
       "    .dataframe tbody tr th:only-of-type {\n",
       "        vertical-align: middle;\n",
       "    }\n",
       "\n",
       "    .dataframe tbody tr th {\n",
       "        vertical-align: top;\n",
       "    }\n",
       "\n",
       "    .dataframe thead th {\n",
       "        text-align: right;\n",
       "    }\n",
       "</style>\n",
       "<table border=\"1\" class=\"dataframe\">\n",
       "  <thead>\n",
       "    <tr style=\"text-align: right;\">\n",
       "      <th></th>\n",
       "      <th>SubSection</th>\n",
       "      <th>Dist</th>\n",
       "      <th>Alunos_alocados_2011</th>\n",
       "      <th>Dist_diaria</th>\n",
       "      <th>Custo</th>\n",
       "    </tr>\n",
       "  </thead>\n",
       "  <tbody>\n",
       "    <tr>\n",
       "      <th>0</th>\n",
       "      <td>01180100101</td>\n",
       "      <td>1.183719</td>\n",
       "      <td>0.387975</td>\n",
       "      <td>0.918506</td>\n",
       "      <td>595.191565</td>\n",
       "    </tr>\n",
       "    <tr>\n",
       "      <th>1</th>\n",
       "      <td>01180100102</td>\n",
       "      <td>1.034467</td>\n",
       "      <td>0.969936</td>\n",
       "      <td>2.006735</td>\n",
       "      <td>1300.364269</td>\n",
       "    </tr>\n",
       "    <tr>\n",
       "      <th>2</th>\n",
       "      <td>01180100103</td>\n",
       "      <td>0.894086</td>\n",
       "      <td>1.551898</td>\n",
       "      <td>2.775062</td>\n",
       "      <td>1798.239874</td>\n",
       "    </tr>\n",
       "    <tr>\n",
       "      <th>3</th>\n",
       "      <td>01180100104</td>\n",
       "      <td>1.020419</td>\n",
       "      <td>0.969936</td>\n",
       "      <td>1.979483</td>\n",
       "      <td>1282.704755</td>\n",
       "    </tr>\n",
       "    <tr>\n",
       "      <th>4</th>\n",
       "      <td>01180100105</td>\n",
       "      <td>0.851745</td>\n",
       "      <td>0.387975</td>\n",
       "      <td>0.660910</td>\n",
       "      <td>428.269964</td>\n",
       "    </tr>\n",
       "  </tbody>\n",
       "</table>\n",
       "</div>"
      ],
      "text/plain": [
       "    SubSection      Dist  Alunos_alocados_2011  Dist_diaria        Custo\n",
       "0  01180100101  1.183719              0.387975     0.918506   595.191565\n",
       "1  01180100102  1.034467              0.969936     2.006735  1300.364269\n",
       "2  01180100103  0.894086              1.551898     2.775062  1798.239874\n",
       "3  01180100104  1.020419              0.969936     1.979483  1282.704755\n",
       "4  01180100105  0.851745              0.387975     0.660910   428.269964"
      ]
     },
     "execution_count": 4,
     "metadata": {},
     "output_type": "execute_result"
    }
   ],
   "source": [
    "df_escolas_reais.head()"
   ]
  },
  {
   "cell_type": "code",
   "execution_count": 5,
   "metadata": {},
   "outputs": [
    {
     "ename": "SyntaxError",
     "evalue": "invalid syntax (<ipython-input-5-455680ca2399>, line 1)",
     "output_type": "error",
     "traceback": [
      "\u001b[1;36m  File \u001b[1;32m\"<ipython-input-5-455680ca2399>\"\u001b[1;36m, line \u001b[1;32m1\u001b[0m\n\u001b[1;33m    def\u001b[0m\n\u001b[1;37m        ^\u001b[0m\n\u001b[1;31mSyntaxError\u001b[0m\u001b[1;31m:\u001b[0m invalid syntax\n"
     ]
    }
   ],
   "source": [
    "def Adicionar_percenatens (dataframe):\n",
    "    dataframe = dataframe\n",
    "\n",
    "    \n",
    "    \n",
    "df_gini=df_gini.sort_values(by = 'Dist')\n",
    "df_gini['percent_dist'] =  df_gini.produto_dist_alunos / df_gini.produto_dist_alunos.sum()\n",
    "df_gini['percent_alunos'] =  df_gini.Alunos_alocados / df_gini.Alunos_alocados.sum()\n",
    "df_gini['Dist_cumsum'] = df_gini.produto_dist_alunos.cumsum()/df_gini.produto_dist_alunos.sum()\n",
    "df_gini['Alunos_cumsum'] = df_gini.Alunos_alocados.cumsum()/df_gini.Alunos_alocados.sum()\n",
    "df_gini.head()\n",
    "def Local_moran_I (l, matrizes): \n",
    "    a = {}\n",
    "    for i in l:\n",
    "        key = str(i)\n",
    "        value = pysal.explore.esda.Moran_Local\\\n",
    "        (gdf_municipios_CAOP2018[i], matrizes[1], transformation='r', permutations=999)\n",
    "        a[key] = (matrizes[0],value)\n",
    "    return(a)"
   ]
  },
  {
   "cell_type": "code",
   "execution_count": null,
   "metadata": {},
   "outputs": [],
   "source": [
    "df_escolas_reais.iloc[-1:,]"
   ]
  },
  {
   "cell_type": "code",
   "execution_count": null,
   "metadata": {},
   "outputs": [],
   "source": [
    "df_capacitated['produto_dist_alunos'] = df_capacitated.Dist * df_capacitated.Alunos_alocados_2011\n",
    "df_escolas_reais['produto_dist_alunos'] = df_escolas_reais.Dist * df_escolas_reais.Alunos_2011\n",
    "df_k_median['produto_dist_alunos'] = df_k_median.Dist * df_k_median.Alunos_alocados_2011"
   ]
  },
  {
   "cell_type": "code",
   "execution_count": null,
   "metadata": {},
   "outputs": [],
   "source": [
    "df_gini=df_capacitated"
   ]
  },
  {
   "cell_type": "code",
   "execution_count": null,
   "metadata": {},
   "outputs": [],
   "source": [
    "\n",
    "df_gini=df_gini.sort_values(by = 'Dist')\n",
    "df_gini['percent_dist'] =  df_gini.produto_dist_alunos / df_gini.produto_dist_alunos.sum()\n",
    "df_gini['percent_alunos'] =  df_gini.Alunos_alocados / df_gini.Alunos_alocados.sum()\n",
    "df_gini['Dist_cumsum'] = df_gini.produto_dist_alunos.cumsum()/df_gini.produto_dist_alunos.sum()\n",
    "df_gini['Alunos_cumsum'] = df_gini.Alunos_alocados.cumsum()/df_gini.Alunos_alocados.sum()\n",
    "df_gini.head()"
   ]
  },
  {
   "cell_type": "code",
   "execution_count": null,
   "metadata": {},
   "outputs": [],
   "source": [
    "b = [0]\n",
    "b[1:] = df_gini.Dist_cumsum\n",
    "Dist_sum = pd.Series(b)\n",
    "\n",
    "b2 = [0]\n",
    "b2[1:] = df_gini.Alunos_cumsum\n",
    "Alunos_sum = pd.Series(b2)\n"
   ]
  },
  {
   "cell_type": "code",
   "execution_count": null,
   "metadata": {},
   "outputs": [],
   "source": [
    "# we need the X values to be between 0.0 to 1.0\n",
    "# plt.plot(np.linspace(0.0, 1.0, scaled_sum.size), scaled_sum, color = 'grey')\n",
    "# plt.plot(np.linspace(0.0, 1.0, scaled_sum.size), scaled_sum, color = 'grey')\n",
    "plt.plot(Alunos_sum, Dist_sum, linewidth=2, markersize=2, color = 'grey')\n",
    "# plot the straight line perfect equality curve\n",
    "plt.plot([0,1], [0,1], color = 'black')\n",
    "plt.show()"
   ]
  },
  {
   "cell_type": "code",
   "execution_count": null,
   "metadata": {},
   "outputs": [],
   "source": [
    "df_capacitated.head()"
   ]
  },
  {
   "cell_type": "code",
   "execution_count": null,
   "metadata": {},
   "outputs": [],
   "source": [
    "weighted_appearances = []\n",
    "for index, row in df_capacitated.iterrows():\n",
    "    weighted_row = [row.Dist]*int(row.Alunos_alocados)\n",
    "    weighted_appearances += weighted_row\n",
    "for index, row in df_capacitated.iterrows():\n",
    "    weighted_row = [row.Dist]*int(row.Alunos_alocados)\n",
    "    weighted_appearances += weighted_row\n",
    "\n",
    "    \n",
    "plt.boxplot(weighted_appearances)\n",
    "\n",
    "\n",
    "\n",
    "\n",
    "plt.show()\n",
    "\n",
    "\n",
    "\n",
    "# weighted_appearances = []\n",
    "# for index, row in df.iterrows():\n",
    "#     weighted_row = [row.ColA]*row.ColA_weights\n",
    "#     weighted_appearances += weighted_row\n",
    "\n",
    "# plt.boxplot(weighted_appearances)\n",
    "# plt.show()"
   ]
  },
  {
   "cell_type": "code",
   "execution_count": null,
   "metadata": {},
   "outputs": [],
   "source": [
    "weighted_appearances"
   ]
  },
  {
   "cell_type": "code",
   "execution_count": null,
   "metadata": {},
   "outputs": [],
   "source": [
    "data_to_plot = (df_capacitated.Dist, df_capacitated.Alunos_alocados)\n",
    "\n",
    "# Create a figure instance\n",
    "fig = plt.figure(1, figsize=(9, 4))\n",
    "\n",
    "# Create an axes instance\n",
    "ax = fig.add_subplot(111)\n",
    "\n",
    "# Create the boxplot\n",
    "bp = ax.boxplot(data_to_plot)\n",
    "\n",
    "# add patch_artist=True option to ax.boxplot() \n",
    "## to get fill color\n",
    "bp = ax.boxplot(data_to_plot, patch_artist=True)\n",
    "\n",
    "## change outline color, fill color and linewidth of the boxes\n",
    "for box in bp['boxes']:\n",
    "    # change outline color\n",
    "    box.set( color='grey', linewidth=2)\n",
    "    # change fill color\n",
    "    box.set( facecolor = 'grey' )\n",
    "\n",
    "## change color and linewidth of the whiskers\n",
    "for whisker in bp['whiskers']:\n",
    "    whisker.set(color='black', linewidth=2)\n",
    "\n",
    "## change color and linewidth of the caps\n",
    "for cap in bp['caps']:\n",
    "    cap.set(color='black', linewidth=2)\n",
    "\n",
    "## change color and linewidth of the medians\n",
    "for median in bp['medians']:\n",
    "    median.set(color='black', linewidth=1)\n",
    "\n",
    "## change the style of fliers and their fill\n",
    "for flier in bp['fliers']:\n",
    "    flier.set(marker='o', color='#e7298a', alpha=0.5)\n",
    "   \n",
    "ax.set_xticklabels(['Sample1', 'Sample2'])\n",
    "\n",
    "#Save the figure\n",
    "#fig.savefig('fig1.png', bbox_inches='tight')"
   ]
  },
  {
   "cell_type": "code",
   "execution_count": null,
   "metadata": {},
   "outputs": [],
   "source": [
    " np.average(df_capacitated.Dist,  weights = df_capacitated.Alunos_alocados)"
   ]
  },
  {
   "cell_type": "code",
   "execution_count": null,
   "metadata": {},
   "outputs": [],
   "source": [
    "df_capacitated.head()"
   ]
  },
  {
   "cell_type": "code",
   "execution_count": null,
   "metadata": {},
   "outputs": [],
   "source": [
    "scaled_sum = df_capacitated.Dist.cumsum() / df_capacitated.Dist.sum()\n",
    "ordered = df_capacitated.Alunos_alocados.sort_values()\n",
    "scaled_sum_2 = ordered.cumsum() / ordered.sum()\n",
    "\n",
    "# we need the X values to be between 0.0 to 1.0\n",
    "plt.plot(np.linspace(0.0, 1.0, scaled_sum.size), scaled_sum, color = 'grey')\n",
    "plt.plot(np.linspace(0.0, 1.0, scaled_sum_2.size), scaled_sum_2, color = 'grey')\n",
    "\n",
    "# plot the straight line perfect equality curve\n",
    "plt.plot([0,1], [0,1], color = 'black')\n",
    "plt.show()\n",
    "\n"
   ]
  }
 ],
 "metadata": {
  "kernelspec": {
   "display_name": "Python 3",
   "language": "python",
   "name": "python3"
  },
  "language_info": {
   "codemirror_mode": {
    "name": "ipython",
    "version": 3
   },
   "file_extension": ".py",
   "mimetype": "text/x-python",
   "name": "python",
   "nbconvert_exporter": "python",
   "pygments_lexer": "ipython3",
   "version": "3.6.6"
  }
 },
 "nbformat": 4,
 "nbformat_minor": 2
}
