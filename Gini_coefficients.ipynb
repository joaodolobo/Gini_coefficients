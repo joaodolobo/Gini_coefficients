{
 "cells": [
  {
   "cell_type": "code",
   "execution_count": 2,
   "metadata": {},
   "outputs": [],
   "source": [
    "import os\n",
    "import numpy as np\n",
    "import pandas as pd\n",
    "import matplotlib as plt\n",
    "import matplotlib.pyplot as plt"
   ]
  },
  {
   "cell_type": "code",
   "execution_count": 3,
   "metadata": {},
   "outputs": [],
   "source": [
    "os.chdir('C:/Users/jan/Documents/MEGA/03_Doutoramento/08_Apresentações_publicações/E-Planning')"
   ]
  },
  {
   "cell_type": "code",
   "execution_count": 16,
   "metadata": {},
   "outputs": [],
   "source": [
    "df_capacitated = pd.read_excel(\"Custos_por_algoritmos.xlsx\", sheet_name=\"Capacitated_facility\", header=0,\\\n",
    "             dtype= {'SubSection': str})\n",
    "\n",
    "df_k_median = pd.read_excel(\"Custos_por_algoritmos.xlsx\", sheet_name=\"K_median\", header=0,\\\n",
    "dtype= {'SubSection': str})"
   ]
  },
  {
   "cell_type": "code",
   "execution_count": 17,
   "metadata": {},
   "outputs": [
    {
     "data": {
      "text/html": [
       "<div>\n",
       "<style scoped>\n",
       "    .dataframe tbody tr th:only-of-type {\n",
       "        vertical-align: middle;\n",
       "    }\n",
       "\n",
       "    .dataframe tbody tr th {\n",
       "        vertical-align: top;\n",
       "    }\n",
       "\n",
       "    .dataframe thead th {\n",
       "        text-align: right;\n",
       "    }\n",
       "</style>\n",
       "<table border=\"1\" class=\"dataframe\">\n",
       "  <thead>\n",
       "    <tr style=\"text-align: right;\">\n",
       "      <th></th>\n",
       "      <th>SubSection</th>\n",
       "      <th>School</th>\n",
       "      <th>Custo_transport</th>\n",
       "      <th>Procura_alunos_2011</th>\n",
       "      <th>Unnamed: 4</th>\n",
       "    </tr>\n",
       "  </thead>\n",
       "  <tbody>\n",
       "    <tr>\n",
       "      <th>0</th>\n",
       "      <td>01180300131</td>\n",
       "      <td>1.180300e+09</td>\n",
       "      <td>1310.927569</td>\n",
       "      <td>0.581962</td>\n",
       "      <td>2.023036</td>\n",
       "    </tr>\n",
       "    <tr>\n",
       "      <th>1</th>\n",
       "      <td>01180300217</td>\n",
       "      <td>1.180300e+09</td>\n",
       "      <td>2267.674464</td>\n",
       "      <td>1.163924</td>\n",
       "      <td>3.499498</td>\n",
       "    </tr>\n",
       "    <tr>\n",
       "      <th>2</th>\n",
       "      <td>01180400505</td>\n",
       "      <td>1.181000e+09</td>\n",
       "      <td>0.000000</td>\n",
       "      <td>0.000000</td>\n",
       "      <td>0.000000</td>\n",
       "    </tr>\n",
       "    <tr>\n",
       "      <th>3</th>\n",
       "      <td>01180400510</td>\n",
       "      <td>1.180400e+09</td>\n",
       "      <td>275.178050</td>\n",
       "      <td>0.193987</td>\n",
       "      <td>0.424657</td>\n",
       "    </tr>\n",
       "    <tr>\n",
       "      <th>4</th>\n",
       "      <td>01180400506</td>\n",
       "      <td>1.181000e+09</td>\n",
       "      <td>0.000000</td>\n",
       "      <td>0.000000</td>\n",
       "      <td>0.000000</td>\n",
       "    </tr>\n",
       "  </tbody>\n",
       "</table>\n",
       "</div>"
      ],
      "text/plain": [
       "    SubSection        School  Custo_transport   Procura_alunos_2011  \\\n",
       "0  01180300131  1.180300e+09       1310.927569             0.581962   \n",
       "1  01180300217  1.180300e+09       2267.674464             1.163924   \n",
       "2  01180400505  1.181000e+09          0.000000             0.000000   \n",
       "3  01180400510  1.180400e+09        275.178050             0.193987   \n",
       "4  01180400506  1.181000e+09          0.000000             0.000000   \n",
       "\n",
       "   Unnamed: 4  \n",
       "0    2.023036  \n",
       "1    3.499498  \n",
       "2    0.000000  \n",
       "3    0.424657  \n",
       "4    0.000000  "
      ]
     },
     "execution_count": 17,
     "metadata": {},
     "output_type": "execute_result"
    }
   ],
   "source": [
    "df_k_median.head()"
   ]
  },
  {
   "cell_type": "code",
   "execution_count": 6,
   "metadata": {},
   "outputs": [],
   "source": [
    "#df_capacitated[-1:]\n",
    "df_capacitated = df_capacitated[:-1]"
   ]
  },
  {
   "cell_type": "code",
   "execution_count": 7,
   "metadata": {},
   "outputs": [
    {
     "data": {
      "text/html": [
       "<div>\n",
       "<style scoped>\n",
       "    .dataframe tbody tr th:only-of-type {\n",
       "        vertical-align: middle;\n",
       "    }\n",
       "\n",
       "    .dataframe tbody tr th {\n",
       "        vertical-align: top;\n",
       "    }\n",
       "\n",
       "    .dataframe thead th {\n",
       "        text-align: right;\n",
       "    }\n",
       "</style>\n",
       "<table border=\"1\" class=\"dataframe\">\n",
       "  <thead>\n",
       "    <tr style=\"text-align: right;\">\n",
       "      <th></th>\n",
       "      <th>SubSection</th>\n",
       "      <th>School</th>\n",
       "      <th>Capacity</th>\n",
       "      <th>Alunos_alocados</th>\n",
       "      <th>Unnamed: 4</th>\n",
       "      <th>Custo</th>\n",
       "      <th>Dist</th>\n",
       "      <th>per_alunos</th>\n",
       "      <th>per_dist</th>\n",
       "      <th>per_cum_pessoas</th>\n",
       "      <th>per_cum_distancias</th>\n",
       "    </tr>\n",
       "  </thead>\n",
       "  <tbody>\n",
       "    <tr>\n",
       "      <th>0</th>\n",
       "      <td>1180600225</td>\n",
       "      <td>1.180600e+09</td>\n",
       "      <td>225.0</td>\n",
       "      <td>1.745890</td>\n",
       "      <td>NaN</td>\n",
       "      <td>0.000000</td>\n",
       "      <td>0.000000</td>\n",
       "      <td>0.001982</td>\n",
       "      <td>0.000000</td>\n",
       "      <td>0.001982</td>\n",
       "      <td>0.000000</td>\n",
       "    </tr>\n",
       "    <tr>\n",
       "      <th>1</th>\n",
       "      <td>1180700206</td>\n",
       "      <td>1.180700e+09</td>\n",
       "      <td>225.0</td>\n",
       "      <td>1.163920</td>\n",
       "      <td>NaN</td>\n",
       "      <td>0.000000</td>\n",
       "      <td>0.000000</td>\n",
       "      <td>0.001321</td>\n",
       "      <td>0.000000</td>\n",
       "      <td>0.003303</td>\n",
       "      <td>0.000000</td>\n",
       "    </tr>\n",
       "    <tr>\n",
       "      <th>2</th>\n",
       "      <td>1181000301</td>\n",
       "      <td>1.181000e+09</td>\n",
       "      <td>225.0</td>\n",
       "      <td>0.775949</td>\n",
       "      <td>NaN</td>\n",
       "      <td>0.000000</td>\n",
       "      <td>0.000000</td>\n",
       "      <td>0.000881</td>\n",
       "      <td>0.000000</td>\n",
       "      <td>0.004183</td>\n",
       "      <td>0.000000</td>\n",
       "    </tr>\n",
       "    <tr>\n",
       "      <th>3</th>\n",
       "      <td>1181000123</td>\n",
       "      <td>1.181000e+09</td>\n",
       "      <td>225.0</td>\n",
       "      <td>0.969936</td>\n",
       "      <td>NaN</td>\n",
       "      <td>322.990207</td>\n",
       "      <td>0.498442</td>\n",
       "      <td>0.001101</td>\n",
       "      <td>0.000175</td>\n",
       "      <td>0.005284</td>\n",
       "      <td>0.000175</td>\n",
       "    </tr>\n",
       "    <tr>\n",
       "      <th>4</th>\n",
       "      <td>1180700304</td>\n",
       "      <td>1.180700e+09</td>\n",
       "      <td>225.0</td>\n",
       "      <td>2.133860</td>\n",
       "      <td>NaN</td>\n",
       "      <td>352.930114</td>\n",
       "      <td>0.544645</td>\n",
       "      <td>0.002422</td>\n",
       "      <td>0.000191</td>\n",
       "      <td>0.007706</td>\n",
       "      <td>0.000366</td>\n",
       "    </tr>\n",
       "  </tbody>\n",
       "</table>\n",
       "</div>"
      ],
      "text/plain": [
       "   SubSection        School  Capacity  Alunos_alocados  Unnamed: 4  \\\n",
       "0  1180600225  1.180600e+09     225.0         1.745890         NaN   \n",
       "1  1180700206  1.180700e+09     225.0         1.163920         NaN   \n",
       "2  1181000301  1.181000e+09     225.0         0.775949         NaN   \n",
       "3  1181000123  1.181000e+09     225.0         0.969936         NaN   \n",
       "4  1180700304  1.180700e+09     225.0         2.133860         NaN   \n",
       "\n",
       "       Custo       Dist  per_alunos  per_dist  per_cum_pessoas  \\\n",
       "0    0.000000  0.000000    0.001982  0.000000         0.001982   \n",
       "1    0.000000  0.000000    0.001321  0.000000         0.003303   \n",
       "2    0.000000  0.000000    0.000881  0.000000         0.004183   \n",
       "3  322.990207  0.498442    0.001101  0.000175         0.005284   \n",
       "4  352.930114  0.544645    0.002422  0.000191         0.007706   \n",
       "\n",
       "   per_cum_distancias  \n",
       "0            0.000000  \n",
       "1            0.000000  \n",
       "2            0.000000  \n",
       "3            0.000175  \n",
       "4            0.000366  "
      ]
     },
     "execution_count": 7,
     "metadata": {},
     "output_type": "execute_result"
    }
   ],
   "source": [
    "df_capacitated.head()"
   ]
  },
  {
   "cell_type": "code",
   "execution_count": 8,
   "metadata": {},
   "outputs": [
    {
     "data": {
      "text/plain": [
       "[Text(0, 0, 'Sample1'), Text(0, 0, 'Sample2')]"
      ]
     },
     "execution_count": 8,
     "metadata": {},
     "output_type": "execute_result"
    },
    {
     "data": {
      "image/png": "[encoded data removed]",
      "text/plain": [
       "<Figure size 648x288 with 1 Axes>"
      ]
     },
     "metadata": {
      "needs_background": "light"
     },
     "output_type": "display_data"
    }
   ],
   "source": [
    "data_to_plot = (df_capacitated.Dist, df_capacitated.Alunos_alocados)\n",
    "\n",
    "# Create a figure instance\n",
    "fig = plt.figure(1, figsize=(9, 4))\n",
    "\n",
    "# Create an axes instance\n",
    "ax = fig.add_subplot(111)\n",
    "\n",
    "# Create the boxplot\n",
    "bp = ax.boxplot(data_to_plot)\n",
    "\n",
    "\n",
    "# add patch_artist=True option to ax.boxplot() \n",
    "## to get fill color\n",
    "bp = ax.boxplot(data_to_plot, patch_artist=True)\n",
    "\n",
    "## change outline color, fill color and linewidth of the boxes\n",
    "for box in bp['boxes']:\n",
    "    # change outline color\n",
    "    box.set( color='grey', linewidth=2)\n",
    "    # change fill color\n",
    "    box.set( facecolor = 'grey' )\n",
    "\n",
    "## change color and linewidth of the whiskers\n",
    "for whisker in bp['whiskers']:\n",
    "    whisker.set(color='black', linewidth=2)\n",
    "\n",
    "## change color and linewidth of the caps\n",
    "for cap in bp['caps']:\n",
    "    cap.set(color='black', linewidth=2)\n",
    "\n",
    "## change color and linewidth of the medians\n",
    "for median in bp['medians']:\n",
    "    median.set(color='black', linewidth=1)\n",
    "\n",
    "## change the style of fliers and their fill\n",
    "for flier in bp['fliers']:\n",
    "    flier.set(marker='o', color='#e7298a', alpha=0.5)\n",
    "   \n",
    "ax.set_xticklabels(['Sample1', 'Sample2'])\n",
    "\n",
    "#Save the figure\n",
    "#fig.savefig('fig1.png', bbox_inches='tight')"
   ]
  },
  {
   "cell_type": "code",
   "execution_count": 13,
   "metadata": {},
   "outputs": [
    {
     "data": {
      "text/plain": [
       "5.585630270505735"
      ]
     },
     "execution_count": 13,
     "metadata": {},
     "output_type": "execute_result"
    }
   ],
   "source": [
    " np.average(df_capacitated.Dist,  weights = df_capacitated.Alunos_alocados)"
   ]
  },
  {
   "cell_type": "code",
   "execution_count": 9,
   "metadata": {},
   "outputs": [
    {
     "data": {
      "image/png": "[encoded data removed]",
      "text/plain": [
       "<Figure size 432x288 with 1 Axes>"
      ]
     },
     "metadata": {
      "needs_background": "light"
     },
     "output_type": "display_data"
    }
   ],
   "source": [
    "scaled_sum = df_capacitated.Dist.cumsum() / df_capacitated.Dist.sum()\n",
    "ordered = df_capacitated.Alunos_alocados.sort_values()\n",
    "scaled_sum_2 = ordered.cumsum() / ordered.sum()\n",
    "\n",
    "# we need the X values to be between 0.0 to 1.0\n",
    "plt.plot(np.linspace(0.0, 1.0, scaled_sum.size), scaled_sum, color = 'grey')\n",
    "plt.plot(np.linspace(0.0, 1.0, scaled_sum_2.size), scaled_sum_2, color = 'grey')\n",
    "\n",
    "# plot the straight line perfect equality curve\n",
    "plt.plot([0,1], [0,1], color = 'black')\n",
    "plt.show()\n",
    "\n"
   ]
  }
 ],
 "metadata": {
  "kernelspec": {
   "display_name": "Python 3",
   "language": "python",
   "name": "python3"
  },
  "language_info": {
   "codemirror_mode": {
    "name": "ipython",
    "version": 3
   },
   "file_extension": ".py",
   "mimetype": "text/x-python",
   "name": "python",
   "nbconvert_exporter": "python",
   "pygments_lexer": "ipython3",
   "version": "3.7.4"
  }
 },
 "nbformat": 4,
 "nbformat_minor": 2
}
